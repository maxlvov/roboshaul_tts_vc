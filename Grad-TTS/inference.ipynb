{
 "cells": [
  {
   "cell_type": "markdown",
   "metadata": {},
   "source": [
    "# Grad-TTS: A Diffusion Probabilistic Model for Text-to-Speech\n",
    "\n",
    "Official implementation of the Grad-TTS model based on Diffusion Probabilistic Models. For all details check out our paper accepted to ICML 2021 via [this](https://arxiv.org/abs/2105.06337) link.\n",
    "\n",
    "You can listen to the samples on our demo page via [this](https://grad-tts.github.io/) link.\n",
    "\n",
    "You can access Google Colab demo notebook via [this](https://colab.research.google.com/drive/1YNrXtkJQKcYDmIYJeyX8s5eXxB4zgpZI?usp=sharing) link.\n",
    "\n",
    "**Authors**: Vadim Popov\\*, Ivan Vovk\\*, Vladimir Gogoryan, Tasnima Sadekova, Mikhail Kudinov.\n",
    "\n",
    "<sup>\\*Equal contribution.</sup>\n",
    "\n",
    "**Note**: for fast synthesis prefer running inference on GPU device."
   ]
  },
  {
   "cell_type": "code",
   "execution_count": null,
   "metadata": {},
   "outputs": [],
   "source": [
    "%env CUDA_VISIBLE_DEVICES=0"
   ]
  },
  {
   "cell_type": "code",
   "execution_count": null,
   "metadata": {},
   "outputs": [],
   "source": [
    "import argparse\n",
    "import json\n",
    "import datetime as dt\n",
    "import numpy as np\n",
    "import matplotlib.pyplot as plt\n",
    "import IPython.display as ipd\n",
    "from tqdm import tqdm\n",
    "from scipy.io.wavfile import write\n",
    "\n",
    "import torch\n",
    "\n",
    "# For Grad-TTS\n",
    "import params\n",
    "from model import GradTTS\n",
    "from text import text_to_sequence, cmudict\n",
    "from text.symbols import symbols\n",
    "from utils import intersperse\n",
    "\n",
    "# For HiFi-GAN\n",
    "import sys\n",
    "sys.path.append('./hifi-gan/')\n",
    "from env import AttrDict\n",
    "from models import Generator as HiFiGAN"
   ]
  },
  {
   "cell_type": "code",
   "execution_count": null,
   "metadata": {},
   "outputs": [],
   "source": [
    "N_SPKS = 247  # 247 for Libri-TTS model and 1 for single speaker (LJSpeech)"
   ]
  },
  {
   "cell_type": "code",
   "execution_count": null,
   "metadata": {},
   "outputs": [],
   "source": [
    "generator = GradTTS(len(symbols)+1, N_SPKS, params.spk_emb_dim,\n",
    "                    params.n_enc_channels, params.filter_channels,\n",
    "                    params.filter_channels_dp, params.n_heads, params.n_enc_layers,\n",
    "                    params.enc_kernel, params.enc_dropout, params.window_size,\n",
    "                    params.n_feats, params.dec_dim, params.beta_min, params.beta_max,\n",
    "                    pe_scale=1000)  # pe_scale=1 for `grad-tts-old.pt`\n",
    "generator.load_state_dict(torch.load('./checkpts/grad-tts-libri-tts.pt', map_location=lambda loc, storage: loc))\n",
    "_ = generator.cuda().eval()\n",
    "print(f'Number of parameters: {generator.nparams}')\n",
    "\n",
    "cmu = cmudict.CMUDict('./resources/cmu_dictionary')"
   ]
  },
  {
   "cell_type": "code",
   "execution_count": null,
   "metadata": {},
   "outputs": [],
   "source": [
    "with open('./checkpts/hifigan-config.json') as f:\n",
    "    h = AttrDict(json.load(f))\n",
    "hifigan = HiFiGAN(h)\n",
    "hifigan.load_state_dict(torch.load('./checkpts/hifigan.pt', map_location=lambda loc, storage: loc)['generator'])\n",
    "_ = hifigan.cuda().eval()\n",
    "hifigan.remove_weight_norm()\n",
    "%matplotlib inline"
   ]
  },
  {
   "cell_type": "code",
   "execution_count": null,
   "metadata": {},
   "outputs": [],
   "source": [
    "text = \"Here are the match lineups for the Colombia Haiti match.\""
   ]
  },
  {
   "cell_type": "code",
   "execution_count": null,
   "metadata": {},
   "outputs": [],
   "source": [
    "x = torch.LongTensor(intersperse(text_to_sequence(text, dictionary=cmu), len(symbols))).cuda()[None]\n",
    "x_lengths = torch.LongTensor([x.shape[-1]]).cuda()\n",
    "x.shape, x_lengths"
   ]
  },
  {
   "cell_type": "code",
   "execution_count": null,
   "metadata": {},
   "outputs": [],
   "source": [
    "t = dt.datetime.now()\n",
    "y_enc, y_dec, attn = generator.forward(x, x_lengths, n_timesteps=50, temperature=1.3,\n",
    "                                       stoc=False, spk=None if N_SPKS==1 else torch.LongTensor([15]).cuda(),\n",
    "                                       length_scale=0.91)\n",
    "t = (dt.datetime.now() - t).total_seconds()\n",
    "print(f'Grad-TTS RTF: {t * 22050 / (y_dec.shape[-1] * 256)}')\n",
    "\n",
    "plt.figure(figsize=(15, 4))\n",
    "plt.subplot(1, 3, 1)\n",
    "plt.title('Encoder outputs')\n",
    "plt.imshow(y_enc.cpu().squeeze(), aspect='auto', origin='lower')\n",
    "plt.colorbar()\n",
    "plt.subplot(1, 3, 2)\n",
    "plt.title('Decoder outputs')\n",
    "plt.imshow(y_dec.cpu().squeeze(), aspect='auto', origin='lower')\n",
    "plt.colorbar()\n",
    "plt.subplot(1, 3, 3)\n",
    "plt.title('Alignment')\n",
    "plt.imshow(attn.cpu().squeeze(), aspect='auto', origin='lower');"
   ]
  },
  {
   "cell_type": "code",
   "execution_count": null,
   "metadata": {},
   "outputs": [],
   "source": [
    "with torch.no_grad():\n",
    "    audio = hifigan.forward(y_dec).cpu().squeeze().clamp(-1, 1)\n",
    "ipd.display(ipd.Audio(audio, rate=22050))"
   ]
  },
  {
   "cell_type": "code",
   "execution_count": null,
   "metadata": {},
   "outputs": [],
   "source": []
  }
 ],
 "metadata": {
  "interpreter": {
   "hash": "1c27759576147a09f82f75fe7e6da160ee29ac300de0ba196702adc9d307c9a1"
  },
  "kernelspec": {
   "display_name": "Python 3 (ipykernel)",
   "language": "python",
   "name": "python3"
  },
  "language_info": {
   "codemirror_mode": {
    "name": "ipython",
    "version": 3
   },
   "file_extension": ".py",
   "mimetype": "text/x-python",
   "name": "python",
   "nbconvert_exporter": "python",
   "pygments_lexer": "ipython3",
   "version": "3.10.0"
  },
  "metadata": {
   "interpreter": {
    "hash": "1c27759576147a09f82f75fe7e6da160ee29ac300de0ba196702adc9d307c9a1"
   }
  }
 },
 "nbformat": 4,
 "nbformat_minor": 4
}
